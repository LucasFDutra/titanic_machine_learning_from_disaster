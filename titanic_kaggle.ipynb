{
  "nbformat": 4,
  "nbformat_minor": 0,
  "metadata": {
    "orig_nbformat": 2,
    "colab": {
      "name": "titanic_kaggle.ipynb",
      "provenance": [],
      "include_colab_link": true
    },
    "kernelspec": {
      "name": "python3",
      "display_name": "Python 3"
    },
    "accelerator": "GPU"
  },
  "cells": [
    {
      "cell_type": "markdown",
      "metadata": {
        "id": "view-in-github",
        "colab_type": "text"
      },
      "source": [
        "<a href=\"https://colab.research.google.com/github/LucasFDutra/titanic_machine_learning_from_disaster/blob/master/titanic_kaggle.ipynb\" target=\"_parent\"><img src=\"https://colab.research.google.com/assets/colab-badge.svg\" alt=\"Open In Colab\"/></a>"
      ]
    },
    {
      "cell_type": "markdown",
      "metadata": {
        "id": "dc43fvEsEQ7b"
      },
      "source": [
        "# 1. Import de bibliotecas"
      ]
    },
    {
      "cell_type": "code",
      "metadata": {
        "id": "16NrseCj-nrq"
      },
      "source": [
        "import pandas as pd\n",
        "import numpy as np\n",
        "import matplotlib.pyplot as plt\n",
        "import tensorflow as tf"
      ],
      "execution_count": 1,
      "outputs": []
    },
    {
      "cell_type": "code",
      "metadata": {
        "id": "NgiZd1tsAucR"
      },
      "source": [
        "# !pip install -U plotly\n",
        "# pd.options.plotting.backend = \"plotly\""
      ],
      "execution_count": 2,
      "outputs": []
    },
    {
      "cell_type": "markdown",
      "metadata": {
        "id": "fJrDIWnVEUxJ"
      },
      "source": [
        "# 2. Aquisição dos dados"
      ]
    },
    {
      "cell_type": "code",
      "metadata": {
        "colab": {
          "base_uri": "https://localhost:8080/",
          "height": 204
        },
        "id": "70OW1mz0Ai1I",
        "outputId": "b155a411-1e9d-4713-9b25-fcb7ffc03d0f"
      },
      "source": [
        "data = pd.read_csv('https://raw.githubusercontent.com/LucasFDutra/titanic_machine_learning_from_disaster/master/data/train.csv')\n",
        "data.head()"
      ],
      "execution_count": 3,
      "outputs": [
        {
          "output_type": "execute_result",
          "data": {
            "text/html": [
              "<div>\n",
              "<style scoped>\n",
              "    .dataframe tbody tr th:only-of-type {\n",
              "        vertical-align: middle;\n",
              "    }\n",
              "\n",
              "    .dataframe tbody tr th {\n",
              "        vertical-align: top;\n",
              "    }\n",
              "\n",
              "    .dataframe thead th {\n",
              "        text-align: right;\n",
              "    }\n",
              "</style>\n",
              "<table border=\"1\" class=\"dataframe\">\n",
              "  <thead>\n",
              "    <tr style=\"text-align: right;\">\n",
              "      <th></th>\n",
              "      <th>PassengerId</th>\n",
              "      <th>Survived</th>\n",
              "      <th>Pclass</th>\n",
              "      <th>Name</th>\n",
              "      <th>Sex</th>\n",
              "      <th>Age</th>\n",
              "      <th>SibSp</th>\n",
              "      <th>Parch</th>\n",
              "      <th>Ticket</th>\n",
              "      <th>Fare</th>\n",
              "      <th>Cabin</th>\n",
              "      <th>Embarked</th>\n",
              "    </tr>\n",
              "  </thead>\n",
              "  <tbody>\n",
              "    <tr>\n",
              "      <th>0</th>\n",
              "      <td>1</td>\n",
              "      <td>0</td>\n",
              "      <td>3</td>\n",
              "      <td>Braund, Mr. Owen Harris</td>\n",
              "      <td>male</td>\n",
              "      <td>22.0</td>\n",
              "      <td>1</td>\n",
              "      <td>0</td>\n",
              "      <td>A/5 21171</td>\n",
              "      <td>7.2500</td>\n",
              "      <td>NaN</td>\n",
              "      <td>S</td>\n",
              "    </tr>\n",
              "    <tr>\n",
              "      <th>1</th>\n",
              "      <td>2</td>\n",
              "      <td>1</td>\n",
              "      <td>1</td>\n",
              "      <td>Cumings, Mrs. John Bradley (Florence Briggs Th...</td>\n",
              "      <td>female</td>\n",
              "      <td>38.0</td>\n",
              "      <td>1</td>\n",
              "      <td>0</td>\n",
              "      <td>PC 17599</td>\n",
              "      <td>71.2833</td>\n",
              "      <td>C85</td>\n",
              "      <td>C</td>\n",
              "    </tr>\n",
              "    <tr>\n",
              "      <th>2</th>\n",
              "      <td>3</td>\n",
              "      <td>1</td>\n",
              "      <td>3</td>\n",
              "      <td>Heikkinen, Miss. Laina</td>\n",
              "      <td>female</td>\n",
              "      <td>26.0</td>\n",
              "      <td>0</td>\n",
              "      <td>0</td>\n",
              "      <td>STON/O2. 3101282</td>\n",
              "      <td>7.9250</td>\n",
              "      <td>NaN</td>\n",
              "      <td>S</td>\n",
              "    </tr>\n",
              "    <tr>\n",
              "      <th>3</th>\n",
              "      <td>4</td>\n",
              "      <td>1</td>\n",
              "      <td>1</td>\n",
              "      <td>Futrelle, Mrs. Jacques Heath (Lily May Peel)</td>\n",
              "      <td>female</td>\n",
              "      <td>35.0</td>\n",
              "      <td>1</td>\n",
              "      <td>0</td>\n",
              "      <td>113803</td>\n",
              "      <td>53.1000</td>\n",
              "      <td>C123</td>\n",
              "      <td>S</td>\n",
              "    </tr>\n",
              "    <tr>\n",
              "      <th>4</th>\n",
              "      <td>5</td>\n",
              "      <td>0</td>\n",
              "      <td>3</td>\n",
              "      <td>Allen, Mr. William Henry</td>\n",
              "      <td>male</td>\n",
              "      <td>35.0</td>\n",
              "      <td>0</td>\n",
              "      <td>0</td>\n",
              "      <td>373450</td>\n",
              "      <td>8.0500</td>\n",
              "      <td>NaN</td>\n",
              "      <td>S</td>\n",
              "    </tr>\n",
              "  </tbody>\n",
              "</table>\n",
              "</div>"
            ],
            "text/plain": [
              "   PassengerId  Survived  Pclass  ...     Fare Cabin  Embarked\n",
              "0            1         0       3  ...   7.2500   NaN         S\n",
              "1            2         1       1  ...  71.2833   C85         C\n",
              "2            3         1       3  ...   7.9250   NaN         S\n",
              "3            4         1       1  ...  53.1000  C123         S\n",
              "4            5         0       3  ...   8.0500   NaN         S\n",
              "\n",
              "[5 rows x 12 columns]"
            ]
          },
          "metadata": {
            "tags": []
          },
          "execution_count": 3
        }
      ]
    },
    {
      "cell_type": "markdown",
      "metadata": {
        "id": "5_w5e7T2EcrV"
      },
      "source": [
        "# 3. Ajuste nos dados"
      ]
    },
    {
      "cell_type": "code",
      "metadata": {
        "id": "grZ0yzhv6u6a",
        "colab": {
          "base_uri": "https://localhost:8080/",
          "height": 297
        },
        "outputId": "89b9dc9f-9845-4acd-8b3a-f845b52f048d"
      },
      "source": [
        "age_mean = data['Age'].mean()\n",
        "data['Age'] = data['Age'].fillna(age_mean)\n",
        "data['Sex'] = data['Sex'].apply(lambda x : 0 if x == 'male' else 1)\n",
        "data['SUM_COLUMN'] = data['PassengerId'].apply(lambda x : 1)\n",
        "\n",
        "data.describe()"
      ],
      "execution_count": 4,
      "outputs": [
        {
          "output_type": "execute_result",
          "data": {
            "text/html": [
              "<div>\n",
              "<style scoped>\n",
              "    .dataframe tbody tr th:only-of-type {\n",
              "        vertical-align: middle;\n",
              "    }\n",
              "\n",
              "    .dataframe tbody tr th {\n",
              "        vertical-align: top;\n",
              "    }\n",
              "\n",
              "    .dataframe thead th {\n",
              "        text-align: right;\n",
              "    }\n",
              "</style>\n",
              "<table border=\"1\" class=\"dataframe\">\n",
              "  <thead>\n",
              "    <tr style=\"text-align: right;\">\n",
              "      <th></th>\n",
              "      <th>PassengerId</th>\n",
              "      <th>Survived</th>\n",
              "      <th>Pclass</th>\n",
              "      <th>Sex</th>\n",
              "      <th>Age</th>\n",
              "      <th>SibSp</th>\n",
              "      <th>Parch</th>\n",
              "      <th>Fare</th>\n",
              "      <th>SUM_COLUMN</th>\n",
              "    </tr>\n",
              "  </thead>\n",
              "  <tbody>\n",
              "    <tr>\n",
              "      <th>count</th>\n",
              "      <td>891.000000</td>\n",
              "      <td>891.000000</td>\n",
              "      <td>891.000000</td>\n",
              "      <td>891.000000</td>\n",
              "      <td>891.000000</td>\n",
              "      <td>891.000000</td>\n",
              "      <td>891.000000</td>\n",
              "      <td>891.000000</td>\n",
              "      <td>891.0</td>\n",
              "    </tr>\n",
              "    <tr>\n",
              "      <th>mean</th>\n",
              "      <td>446.000000</td>\n",
              "      <td>0.383838</td>\n",
              "      <td>2.308642</td>\n",
              "      <td>0.352413</td>\n",
              "      <td>29.699118</td>\n",
              "      <td>0.523008</td>\n",
              "      <td>0.381594</td>\n",
              "      <td>32.204208</td>\n",
              "      <td>1.0</td>\n",
              "    </tr>\n",
              "    <tr>\n",
              "      <th>std</th>\n",
              "      <td>257.353842</td>\n",
              "      <td>0.486592</td>\n",
              "      <td>0.836071</td>\n",
              "      <td>0.477990</td>\n",
              "      <td>13.002015</td>\n",
              "      <td>1.102743</td>\n",
              "      <td>0.806057</td>\n",
              "      <td>49.693429</td>\n",
              "      <td>0.0</td>\n",
              "    </tr>\n",
              "    <tr>\n",
              "      <th>min</th>\n",
              "      <td>1.000000</td>\n",
              "      <td>0.000000</td>\n",
              "      <td>1.000000</td>\n",
              "      <td>0.000000</td>\n",
              "      <td>0.420000</td>\n",
              "      <td>0.000000</td>\n",
              "      <td>0.000000</td>\n",
              "      <td>0.000000</td>\n",
              "      <td>1.0</td>\n",
              "    </tr>\n",
              "    <tr>\n",
              "      <th>25%</th>\n",
              "      <td>223.500000</td>\n",
              "      <td>0.000000</td>\n",
              "      <td>2.000000</td>\n",
              "      <td>0.000000</td>\n",
              "      <td>22.000000</td>\n",
              "      <td>0.000000</td>\n",
              "      <td>0.000000</td>\n",
              "      <td>7.910400</td>\n",
              "      <td>1.0</td>\n",
              "    </tr>\n",
              "    <tr>\n",
              "      <th>50%</th>\n",
              "      <td>446.000000</td>\n",
              "      <td>0.000000</td>\n",
              "      <td>3.000000</td>\n",
              "      <td>0.000000</td>\n",
              "      <td>29.699118</td>\n",
              "      <td>0.000000</td>\n",
              "      <td>0.000000</td>\n",
              "      <td>14.454200</td>\n",
              "      <td>1.0</td>\n",
              "    </tr>\n",
              "    <tr>\n",
              "      <th>75%</th>\n",
              "      <td>668.500000</td>\n",
              "      <td>1.000000</td>\n",
              "      <td>3.000000</td>\n",
              "      <td>1.000000</td>\n",
              "      <td>35.000000</td>\n",
              "      <td>1.000000</td>\n",
              "      <td>0.000000</td>\n",
              "      <td>31.000000</td>\n",
              "      <td>1.0</td>\n",
              "    </tr>\n",
              "    <tr>\n",
              "      <th>max</th>\n",
              "      <td>891.000000</td>\n",
              "      <td>1.000000</td>\n",
              "      <td>3.000000</td>\n",
              "      <td>1.000000</td>\n",
              "      <td>80.000000</td>\n",
              "      <td>8.000000</td>\n",
              "      <td>6.000000</td>\n",
              "      <td>512.329200</td>\n",
              "      <td>1.0</td>\n",
              "    </tr>\n",
              "  </tbody>\n",
              "</table>\n",
              "</div>"
            ],
            "text/plain": [
              "       PassengerId    Survived      Pclass  ...       Parch        Fare  SUM_COLUMN\n",
              "count   891.000000  891.000000  891.000000  ...  891.000000  891.000000       891.0\n",
              "mean    446.000000    0.383838    2.308642  ...    0.381594   32.204208         1.0\n",
              "std     257.353842    0.486592    0.836071  ...    0.806057   49.693429         0.0\n",
              "min       1.000000    0.000000    1.000000  ...    0.000000    0.000000         1.0\n",
              "25%     223.500000    0.000000    2.000000  ...    0.000000    7.910400         1.0\n",
              "50%     446.000000    0.000000    3.000000  ...    0.000000   14.454200         1.0\n",
              "75%     668.500000    1.000000    3.000000  ...    0.000000   31.000000         1.0\n",
              "max     891.000000    1.000000    3.000000  ...    6.000000  512.329200         1.0\n",
              "\n",
              "[8 rows x 9 columns]"
            ]
          },
          "metadata": {
            "tags": []
          },
          "execution_count": 4
        }
      ]
    },
    {
      "cell_type": "markdown",
      "metadata": {
        "id": "lybMYXssEidU"
      },
      "source": [
        "# 4. Analise dos dados"
      ]
    },
    {
      "cell_type": "markdown",
      "metadata": {
        "id": "YoB3RFsuElFP"
      },
      "source": [
        "## 4.1 Separação dos dados no formato `survived x feature`"
      ]
    },
    {
      "cell_type": "code",
      "metadata": {
        "id": "PZnAoIDiseqF",
        "colab": {
          "base_uri": "https://localhost:8080/",
          "height": 235
        },
        "outputId": "39517105-8ff8-46a9-a496-2f4ca0593a27"
      },
      "source": [
        "survived_pclass = data.loc[:, ['Survived', 'Pclass', 'SUM_COLUMN']].groupby(by=['Survived', 'Pclass']).sum().reset_index(drop=False)\n",
        "survived_sex = data.loc[:, ['Survived', 'Sex', 'SUM_COLUMN']].groupby(by=['Survived', 'Sex']).sum().reset_index(drop=False)\n",
        "survived_age = data.loc[:, ['Survived', 'Age', 'SUM_COLUMN']].groupby(by=['Survived', 'Age']).sum().reset_index(drop=False)\n",
        "survived_sibsp = data.loc[:, ['Survived', 'SibSp', 'SUM_COLUMN']].groupby(by=['Survived', 'SibSp']).sum().reset_index(drop=False)\n",
        "survived_ticket = data.loc[:, ['Survived', 'Ticket', 'SUM_COLUMN']].groupby(by=['Survived', 'Ticket']).sum().reset_index(drop=False)\n",
        "survived_fare = data.loc[:, ['Survived', 'Fare', 'SUM_COLUMN']].groupby(by=['Survived', 'Fare']).sum().reset_index(drop=False)\n",
        "survived_cabin = data.loc[:, ['Survived', 'Cabin', 'SUM_COLUMN']].groupby(by=['Survived', 'Cabin']).sum().reset_index(drop=False)\n",
        "survived_embarked = data.loc[:, ['Survived', 'Embarked', 'SUM_COLUMN']].groupby(by=['Survived', 'Embarked']).sum().reset_index(drop=False)\n",
        "survived_pclass"
      ],
      "execution_count": 5,
      "outputs": [
        {
          "output_type": "execute_result",
          "data": {
            "text/html": [
              "<div>\n",
              "<style scoped>\n",
              "    .dataframe tbody tr th:only-of-type {\n",
              "        vertical-align: middle;\n",
              "    }\n",
              "\n",
              "    .dataframe tbody tr th {\n",
              "        vertical-align: top;\n",
              "    }\n",
              "\n",
              "    .dataframe thead th {\n",
              "        text-align: right;\n",
              "    }\n",
              "</style>\n",
              "<table border=\"1\" class=\"dataframe\">\n",
              "  <thead>\n",
              "    <tr style=\"text-align: right;\">\n",
              "      <th></th>\n",
              "      <th>Survived</th>\n",
              "      <th>Pclass</th>\n",
              "      <th>SUM_COLUMN</th>\n",
              "    </tr>\n",
              "  </thead>\n",
              "  <tbody>\n",
              "    <tr>\n",
              "      <th>0</th>\n",
              "      <td>0</td>\n",
              "      <td>1</td>\n",
              "      <td>80</td>\n",
              "    </tr>\n",
              "    <tr>\n",
              "      <th>1</th>\n",
              "      <td>0</td>\n",
              "      <td>2</td>\n",
              "      <td>97</td>\n",
              "    </tr>\n",
              "    <tr>\n",
              "      <th>2</th>\n",
              "      <td>0</td>\n",
              "      <td>3</td>\n",
              "      <td>372</td>\n",
              "    </tr>\n",
              "    <tr>\n",
              "      <th>3</th>\n",
              "      <td>1</td>\n",
              "      <td>1</td>\n",
              "      <td>136</td>\n",
              "    </tr>\n",
              "    <tr>\n",
              "      <th>4</th>\n",
              "      <td>1</td>\n",
              "      <td>2</td>\n",
              "      <td>87</td>\n",
              "    </tr>\n",
              "    <tr>\n",
              "      <th>5</th>\n",
              "      <td>1</td>\n",
              "      <td>3</td>\n",
              "      <td>119</td>\n",
              "    </tr>\n",
              "  </tbody>\n",
              "</table>\n",
              "</div>"
            ],
            "text/plain": [
              "   Survived  Pclass  SUM_COLUMN\n",
              "0         0       1          80\n",
              "1         0       2          97\n",
              "2         0       3         372\n",
              "3         1       1         136\n",
              "4         1       2          87\n",
              "5         1       3         119"
            ]
          },
          "metadata": {
            "tags": []
          },
          "execution_count": 5
        }
      ]
    },
    {
      "cell_type": "markdown",
      "metadata": {
        "id": "bYHp1CQwExmT"
      },
      "source": [
        "## 4.2 Plotando `Survived x Feature`"
      ]
    },
    {
      "cell_type": "code",
      "metadata": {
        "id": "gX3H5bgtFet1"
      },
      "source": [
        "def plot_bar(dataset, label):\n",
        "    died = dataset[dataset['Survived'] == 0]\n",
        "    lived = dataset[dataset['Survived'] == 1]\n",
        "    labels_d = died[label].unique()\n",
        "    labels_l = lived[label].unique()\n",
        "\n",
        "    died = died['SUM_COLUMN'].values\n",
        "    lived = lived['SUM_COLUMN'].values\n",
        "\n",
        "    x_d = np.arange(len(labels_d))\n",
        "    x_l = np.arange(len(labels_l))\n",
        "    width = 0.35\n",
        "\n",
        "    plt.bar(x_d - width/2, died, width, label='died')\n",
        "    plt.bar(x_l + width/2, lived, width, label='lived')\n",
        "    x = x_d if len(x_d) > len(x_l) else x_l\n",
        "    labels = labels_d if len(x_d) > len(x_l) else labels_l\n",
        "    plt.xticks(x, labels)\n",
        "    plt.legend()"
      ],
      "execution_count": 6,
      "outputs": []
    },
    {
      "cell_type": "code",
      "metadata": {
        "id": "rDL7Ua4-xfPA",
        "colab": {
          "base_uri": "https://localhost:8080/",
          "height": 693
        },
        "outputId": "3af7ffca-3e26-4cf8-99a4-1f79f3233615"
      },
      "source": [
        "plt.figure(figsize=(50,16), facecolor='white')\n",
        "\n",
        "plt.subplot(2, 4, 1)\n",
        "plt.title('Pclass')\n",
        "plot_bar(survived_pclass, 'Pclass')\n",
        "\n",
        "plt.subplot(2, 4, 2)\n",
        "plt.title('Sex')\n",
        "plot_bar(survived_sex, 'Sex')\n",
        "\n",
        "plt.subplot(2, 4, 3)\n",
        "plt.title('Age')\n",
        "plot_bar(survived_age, 'Age')\n",
        "\n",
        "plt.subplot(2, 4, 4)\n",
        "plt.title('SibSp')\n",
        "plot_bar(survived_sibsp, 'SibSp')\n",
        "\n",
        "plt.subplot(2, 4, 5)\n",
        "plt.title('Ticket')\n",
        "plot_bar(survived_ticket, 'Ticket')\n",
        "\n",
        "plt.subplot(2, 4, 6)\n",
        "plt.title('Fare')\n",
        "plot_bar(survived_fare, 'Fare')\n",
        "\n",
        "plt.subplot(2, 4, 7)\n",
        "plt.title('Cabin')\n",
        "plot_bar(survived_cabin, 'Cabin')\n",
        "\n",
        "plt.subplot(2, 4, 8)\n",
        "plt.title('Embarked')\n",
        "plot_bar(survived_embarked, 'Embarked')"
      ],
      "execution_count": 7,
      "outputs": [
        {
          "output_type": "display_data",
          "data": {
            "image/png": "[encoded data removed]",
            "text/plain": [
              "<Figure size 3600x1152 with 8 Axes>"
            ]
          },
          "metadata": {
            "tags": []
          }
        }
      ]
    },
    {
      "cell_type": "markdown",
      "metadata": {
        "id": "AuM9U_wmqnON"
      },
      "source": [
        "Analisando os gráficos, é possivel notar que:\n",
        "- 3ª classe tinha mais chance de morrer\n",
        "- Homens tem mais chance de morrer\n",
        "- Quem tem uma idade mais próxima da mediana, tem mais chance de morrer\n",
        "- SibSp = 0 tem mais chances de morrer\n",
        "- Embarked=S tem mais chances de morrer\n",
        "\n",
        "O restante não é realmente expressiva as diferenças entre vivos ou mortos.\n",
        "\n",
        "Logo criarei um modelo me baseando em:\n",
        "\n",
        "- Pclass\n",
        "- Sex\n",
        "- Age\n",
        "- SibSp\n",
        "- Embarked\n",
        "\n",
        "Mas eu sei que Embarked tem alguns registros com nan, então vou tratar isso, colocando os registros iguais ao que já existe mais.\n",
        "\n",
        "E também colocarei para numérico:\n",
        "\n",
        "- C -> 1\n",
        "- Q -> 2\n",
        "- S -> 3"
      ]
    },
    {
      "cell_type": "code",
      "metadata": {
        "colab": {
          "base_uri": "https://localhost:8080/",
          "height": 142
        },
        "id": "YEr725dxr3Mi",
        "outputId": "1c6edbf3-edf5-4c72-ac68-8d36c1ff761a"
      },
      "source": [
        "data.loc[:, ['Embarked', 'SUM_COLUMN']].groupby(by=['Embarked']).sum().reset_index(drop=False)"
      ],
      "execution_count": 8,
      "outputs": [
        {
          "output_type": "execute_result",
          "data": {
            "text/html": [
              "<div>\n",
              "<style scoped>\n",
              "    .dataframe tbody tr th:only-of-type {\n",
              "        vertical-align: middle;\n",
              "    }\n",
              "\n",
              "    .dataframe tbody tr th {\n",
              "        vertical-align: top;\n",
              "    }\n",
              "\n",
              "    .dataframe thead th {\n",
              "        text-align: right;\n",
              "    }\n",
              "</style>\n",
              "<table border=\"1\" class=\"dataframe\">\n",
              "  <thead>\n",
              "    <tr style=\"text-align: right;\">\n",
              "      <th></th>\n",
              "      <th>Embarked</th>\n",
              "      <th>SUM_COLUMN</th>\n",
              "    </tr>\n",
              "  </thead>\n",
              "  <tbody>\n",
              "    <tr>\n",
              "      <th>0</th>\n",
              "      <td>C</td>\n",
              "      <td>168</td>\n",
              "    </tr>\n",
              "    <tr>\n",
              "      <th>1</th>\n",
              "      <td>Q</td>\n",
              "      <td>77</td>\n",
              "    </tr>\n",
              "    <tr>\n",
              "      <th>2</th>\n",
              "      <td>S</td>\n",
              "      <td>644</td>\n",
              "    </tr>\n",
              "  </tbody>\n",
              "</table>\n",
              "</div>"
            ],
            "text/plain": [
              "  Embarked  SUM_COLUMN\n",
              "0        C         168\n",
              "1        Q          77\n",
              "2        S         644"
            ]
          },
          "metadata": {
            "tags": []
          },
          "execution_count": 8
        }
      ]
    },
    {
      "cell_type": "code",
      "metadata": {
        "colab": {
          "base_uri": "https://localhost:8080/"
        },
        "id": "Hc_XPEHrraT8",
        "outputId": "4b7006a0-3158-410c-d8de-8c88bf348cde"
      },
      "source": [
        "data['Embarked'] = data['Embarked'].fillna('S')\n",
        "len(data[pd.isna(data['Embarked'])])"
      ],
      "execution_count": 9,
      "outputs": [
        {
          "output_type": "execute_result",
          "data": {
            "text/plain": [
              "0"
            ]
          },
          "metadata": {
            "tags": []
          },
          "execution_count": 9
        }
      ]
    },
    {
      "cell_type": "code",
      "metadata": {
        "colab": {
          "base_uri": "https://localhost:8080/",
          "height": 419
        },
        "id": "O_nfrMF8tlDs",
        "outputId": "330c0950-b2b3-4801-9b86-e99cfd2556ed"
      },
      "source": [
        "def convert_embarked(x):\n",
        "    if (x == 'C'):\n",
        "        return 1\n",
        "    elif (x == 'Q'):\n",
        "        return 2\n",
        "    elif (x == 'S'):\n",
        "        return 3\n",
        "\n",
        "data['Embarked'] = data['Embarked'].apply(lambda x : convert_embarked(x))\n",
        "data"
      ],
      "execution_count": 10,
      "outputs": [
        {
          "output_type": "execute_result",
          "data": {
            "text/html": [
              "<div>\n",
              "<style scoped>\n",
              "    .dataframe tbody tr th:only-of-type {\n",
              "        vertical-align: middle;\n",
              "    }\n",
              "\n",
              "    .dataframe tbody tr th {\n",
              "        vertical-align: top;\n",
              "    }\n",
              "\n",
              "    .dataframe thead th {\n",
              "        text-align: right;\n",
              "    }\n",
              "</style>\n",
              "<table border=\"1\" class=\"dataframe\">\n",
              "  <thead>\n",
              "    <tr style=\"text-align: right;\">\n",
              "      <th></th>\n",
              "      <th>PassengerId</th>\n",
              "      <th>Survived</th>\n",
              "      <th>Pclass</th>\n",
              "      <th>Name</th>\n",
              "      <th>Sex</th>\n",
              "      <th>Age</th>\n",
              "      <th>SibSp</th>\n",
              "      <th>Parch</th>\n",
              "      <th>Ticket</th>\n",
              "      <th>Fare</th>\n",
              "      <th>Cabin</th>\n",
              "      <th>Embarked</th>\n",
              "      <th>SUM_COLUMN</th>\n",
              "    </tr>\n",
              "  </thead>\n",
              "  <tbody>\n",
              "    <tr>\n",
              "      <th>0</th>\n",
              "      <td>1</td>\n",
              "      <td>0</td>\n",
              "      <td>3</td>\n",
              "      <td>Braund, Mr. Owen Harris</td>\n",
              "      <td>0</td>\n",
              "      <td>22.000000</td>\n",
              "      <td>1</td>\n",
              "      <td>0</td>\n",
              "      <td>A/5 21171</td>\n",
              "      <td>7.2500</td>\n",
              "      <td>NaN</td>\n",
              "      <td>3</td>\n",
              "      <td>1</td>\n",
              "    </tr>\n",
              "    <tr>\n",
              "      <th>1</th>\n",
              "      <td>2</td>\n",
              "      <td>1</td>\n",
              "      <td>1</td>\n",
              "      <td>Cumings, Mrs. John Bradley (Florence Briggs Th...</td>\n",
              "      <td>1</td>\n",
              "      <td>38.000000</td>\n",
              "      <td>1</td>\n",
              "      <td>0</td>\n",
              "      <td>PC 17599</td>\n",
              "      <td>71.2833</td>\n",
              "      <td>C85</td>\n",
              "      <td>1</td>\n",
              "      <td>1</td>\n",
              "    </tr>\n",
              "    <tr>\n",
              "      <th>2</th>\n",
              "      <td>3</td>\n",
              "      <td>1</td>\n",
              "      <td>3</td>\n",
              "      <td>Heikkinen, Miss. Laina</td>\n",
              "      <td>1</td>\n",
              "      <td>26.000000</td>\n",
              "      <td>0</td>\n",
              "      <td>0</td>\n",
              "      <td>STON/O2. 3101282</td>\n",
              "      <td>7.9250</td>\n",
              "      <td>NaN</td>\n",
              "      <td>3</td>\n",
              "      <td>1</td>\n",
              "    </tr>\n",
              "    <tr>\n",
              "      <th>3</th>\n",
              "      <td>4</td>\n",
              "      <td>1</td>\n",
              "      <td>1</td>\n",
              "      <td>Futrelle, Mrs. Jacques Heath (Lily May Peel)</td>\n",
              "      <td>1</td>\n",
              "      <td>35.000000</td>\n",
              "      <td>1</td>\n",
              "      <td>0</td>\n",
              "      <td>113803</td>\n",
              "      <td>53.1000</td>\n",
              "      <td>C123</td>\n",
              "      <td>3</td>\n",
              "      <td>1</td>\n",
              "    </tr>\n",
              "    <tr>\n",
              "      <th>4</th>\n",
              "      <td>5</td>\n",
              "      <td>0</td>\n",
              "      <td>3</td>\n",
              "      <td>Allen, Mr. William Henry</td>\n",
              "      <td>0</td>\n",
              "      <td>35.000000</td>\n",
              "      <td>0</td>\n",
              "      <td>0</td>\n",
              "      <td>373450</td>\n",
              "      <td>8.0500</td>\n",
              "      <td>NaN</td>\n",
              "      <td>3</td>\n",
              "      <td>1</td>\n",
              "    </tr>\n",
              "    <tr>\n",
              "      <th>...</th>\n",
              "      <td>...</td>\n",
              "      <td>...</td>\n",
              "      <td>...</td>\n",
              "      <td>...</td>\n",
              "      <td>...</td>\n",
              "      <td>...</td>\n",
              "      <td>...</td>\n",
              "      <td>...</td>\n",
              "      <td>...</td>\n",
              "      <td>...</td>\n",
              "      <td>...</td>\n",
              "      <td>...</td>\n",
              "      <td>...</td>\n",
              "    </tr>\n",
              "    <tr>\n",
              "      <th>886</th>\n",
              "      <td>887</td>\n",
              "      <td>0</td>\n",
              "      <td>2</td>\n",
              "      <td>Montvila, Rev. Juozas</td>\n",
              "      <td>0</td>\n",
              "      <td>27.000000</td>\n",
              "      <td>0</td>\n",
              "      <td>0</td>\n",
              "      <td>211536</td>\n",
              "      <td>13.0000</td>\n",
              "      <td>NaN</td>\n",
              "      <td>3</td>\n",
              "      <td>1</td>\n",
              "    </tr>\n",
              "    <tr>\n",
              "      <th>887</th>\n",
              "      <td>888</td>\n",
              "      <td>1</td>\n",
              "      <td>1</td>\n",
              "      <td>Graham, Miss. Margaret Edith</td>\n",
              "      <td>1</td>\n",
              "      <td>19.000000</td>\n",
              "      <td>0</td>\n",
              "      <td>0</td>\n",
              "      <td>112053</td>\n",
              "      <td>30.0000</td>\n",
              "      <td>B42</td>\n",
              "      <td>3</td>\n",
              "      <td>1</td>\n",
              "    </tr>\n",
              "    <tr>\n",
              "      <th>888</th>\n",
              "      <td>889</td>\n",
              "      <td>0</td>\n",
              "      <td>3</td>\n",
              "      <td>Johnston, Miss. Catherine Helen \"Carrie\"</td>\n",
              "      <td>1</td>\n",
              "      <td>29.699118</td>\n",
              "      <td>1</td>\n",
              "      <td>2</td>\n",
              "      <td>W./C. 6607</td>\n",
              "      <td>23.4500</td>\n",
              "      <td>NaN</td>\n",
              "      <td>3</td>\n",
              "      <td>1</td>\n",
              "    </tr>\n",
              "    <tr>\n",
              "      <th>889</th>\n",
              "      <td>890</td>\n",
              "      <td>1</td>\n",
              "      <td>1</td>\n",
              "      <td>Behr, Mr. Karl Howell</td>\n",
              "      <td>0</td>\n",
              "      <td>26.000000</td>\n",
              "      <td>0</td>\n",
              "      <td>0</td>\n",
              "      <td>111369</td>\n",
              "      <td>30.0000</td>\n",
              "      <td>C148</td>\n",
              "      <td>1</td>\n",
              "      <td>1</td>\n",
              "    </tr>\n",
              "    <tr>\n",
              "      <th>890</th>\n",
              "      <td>891</td>\n",
              "      <td>0</td>\n",
              "      <td>3</td>\n",
              "      <td>Dooley, Mr. Patrick</td>\n",
              "      <td>0</td>\n",
              "      <td>32.000000</td>\n",
              "      <td>0</td>\n",
              "      <td>0</td>\n",
              "      <td>370376</td>\n",
              "      <td>7.7500</td>\n",
              "      <td>NaN</td>\n",
              "      <td>2</td>\n",
              "      <td>1</td>\n",
              "    </tr>\n",
              "  </tbody>\n",
              "</table>\n",
              "<p>891 rows × 13 columns</p>\n",
              "</div>"
            ],
            "text/plain": [
              "     PassengerId  Survived  Pclass  ... Cabin  Embarked  SUM_COLUMN\n",
              "0              1         0       3  ...   NaN         3           1\n",
              "1              2         1       1  ...   C85         1           1\n",
              "2              3         1       3  ...   NaN         3           1\n",
              "3              4         1       1  ...  C123         3           1\n",
              "4              5         0       3  ...   NaN         3           1\n",
              "..           ...       ...     ...  ...   ...       ...         ...\n",
              "886          887         0       2  ...   NaN         3           1\n",
              "887          888         1       1  ...   B42         3           1\n",
              "888          889         0       3  ...   NaN         3           1\n",
              "889          890         1       1  ...  C148         1           1\n",
              "890          891         0       3  ...   NaN         2           1\n",
              "\n",
              "[891 rows x 13 columns]"
            ]
          },
          "metadata": {
            "tags": []
          },
          "execution_count": 10
        }
      ]
    },
    {
      "cell_type": "markdown",
      "metadata": {
        "id": "oufTwrVuE7L8"
      },
      "source": [
        "# 5. Modelo"
      ]
    },
    {
      "cell_type": "markdown",
      "metadata": {
        "id": "SkE2GrBuE9QZ"
      },
      "source": [
        "## 5.1 Preparando os dados"
      ]
    },
    {
      "cell_type": "code",
      "metadata": {
        "id": "FUMC3o5GDKh4"
      },
      "source": [
        "# x_train = data.loc[:, ['Pclass', 'Sex', 'Age', 'SibSp', 'Embarked']]\n",
        "x_train = pd.get_dummies(data.loc[:, ['Pclass', 'Sex', 'Age', 'SibSp', 'Embarked']], columns=['Pclass', 'Sex', 'SibSp', 'Embarked'])\n",
        "y_train = data.loc[:, ['Survived']]"
      ],
      "execution_count": 11,
      "outputs": []
    },
    {
      "cell_type": "markdown",
      "metadata": {
        "id": "5y_5XXQ_FArc"
      },
      "source": [
        "## 5.2 Definindo modelo e hiperparâmetros"
      ]
    },
    {
      "cell_type": "code",
      "metadata": {
        "id": "YnlFliOf_4rB"
      },
      "source": [
        "batch_size = 32\n",
        "input_len = x_train.shape[1]\n",
        "epochs = 100\n",
        "checkpoint_dir = './training_checkpoints'\n",
        "checkpoint_prefix = checkpoint_dir + \"/my_ckpt\"\n",
        "learning_rate = 1e-3"
      ],
      "execution_count": 12,
      "outputs": []
    },
    {
      "cell_type": "code",
      "metadata": {
        "id": "VCW2MVW--TTN",
        "colab": {
          "base_uri": "https://localhost:8080/"
        },
        "outputId": "ef450c1e-49fd-44fb-ad12-bc083c1eee80"
      },
      "source": [
        "def build_model(input_len):\n",
        "    model = tf.keras.Sequential([\n",
        "        tf.keras.layers.Input(shape=(input_len,)),\n",
        "        tf.keras.layers.Dense(120, activation='relu'),\n",
        "        tf.keras.layers.Dense(70, activation='relu'),\n",
        "        tf.keras.layers.Dense(30, activation='relu'),\n",
        "        tf.keras.layers.Dense(1, activation='sigmoid')\n",
        "    ])\n",
        "    return model\n",
        "\n",
        "model = build_model(input_len)\n",
        "model.compile(optimizer=tf.keras.optimizers.Adam(learning_rate=learning_rate), loss='binary_crossentropy', metrics=['accuracy'])\n",
        "\n",
        "model.summary()"
      ],
      "execution_count": 13,
      "outputs": [
        {
          "output_type": "stream",
          "text": [
            "Model: \"sequential\"\n",
            "_________________________________________________________________\n",
            "Layer (type)                 Output Shape              Param #   \n",
            "=================================================================\n",
            "dense (Dense)                (None, 120)               2040      \n",
            "_________________________________________________________________\n",
            "dense_1 (Dense)              (None, 70)                8470      \n",
            "_________________________________________________________________\n",
            "dense_2 (Dense)              (None, 30)                2130      \n",
            "_________________________________________________________________\n",
            "dense_3 (Dense)              (None, 1)                 31        \n",
            "=================================================================\n",
            "Total params: 12,671\n",
            "Trainable params: 12,671\n",
            "Non-trainable params: 0\n",
            "_________________________________________________________________\n"
          ],
          "name": "stdout"
        }
      ]
    },
    {
      "cell_type": "markdown",
      "metadata": {
        "id": "Yx_U9SfGFEA6"
      },
      "source": [
        "## 5.3 Treinamento"
      ]
    },
    {
      "cell_type": "code",
      "metadata": {
        "id": "dBMupiPz_Cqw"
      },
      "source": [
        "history = model.fit(x=x_train, y=y_train, validation_split=0.2, batch_size=batch_size, epochs=epochs, verbose=0)\n",
        "model.save_weights(checkpoint_prefix)"
      ],
      "execution_count": 14,
      "outputs": []
    },
    {
      "cell_type": "markdown",
      "metadata": {
        "id": "tyPhBY9pFFyL"
      },
      "source": [
        "## 5.4 Avaliação do modelo"
      ]
    },
    {
      "cell_type": "code",
      "metadata": {
        "id": "zNIBGOflorOQ",
        "colab": {
          "base_uri": "https://localhost:8080/",
          "height": 421
        },
        "outputId": "ae9a4edf-1ae7-45cc-9dfe-cdb74f539790"
      },
      "source": [
        "plt.figure(figsize=(15,6), facecolor='white')\n",
        "\n",
        "plt.subplot(1,2,1)\n",
        "plt.title('LOSS')\n",
        "plt.plot(history.history['loss'], c='blue', label='loss')\n",
        "plt.plot(history.history['val_loss'], c='orange', label='val_loss')\n",
        "plt.xlabel('epoch')\n",
        "plt.ylabel('loss')\n",
        "plt.legend()\n",
        "\n",
        "plt.subplot(1,2,2)\n",
        "plt.title('ACCURACY')\n",
        "plt.plot(history.history['accuracy'], c='blue', label='accuracy')\n",
        "plt.plot(history.history['val_accuracy'], c='orange', label='val_accuracy')\n",
        "plt.xlabel('epoch')\n",
        "plt.ylabel('accuracy')\n",
        "plt.legend()"
      ],
      "execution_count": 15,
      "outputs": [
        {
          "output_type": "execute_result",
          "data": {
            "text/plain": [
              "<matplotlib.legend.Legend at 0x7fe89463c828>"
            ]
          },
          "metadata": {
            "tags": []
          },
          "execution_count": 15
        },
        {
          "output_type": "display_data",
          "data": {
            "image/png": "[encoded data removed]",
            "text/plain": [
              "<Figure size 1080x432 with 2 Axes>"
            ]
          },
          "metadata": {
            "tags": []
          }
        }
      ]
    },
    {
      "cell_type": "markdown",
      "metadata": {
        "id": "EMffCxPTwQZE"
      },
      "source": [
        "# 6. Submissão"
      ]
    },
    {
      "cell_type": "markdown",
      "metadata": {
        "id": "xm8HOqBF55WR"
      },
      "source": [
        "## 6.1 Download dos dados"
      ]
    },
    {
      "cell_type": "code",
      "metadata": {
        "id": "YAkHPOmgwYVB"
      },
      "source": [
        "submission_data = pd.read_csv('https://raw.githubusercontent.com/LucasFDutra/titanic_machine_learning_from_disaster/master/data/test.csv')"
      ],
      "execution_count": 16,
      "outputs": []
    },
    {
      "cell_type": "markdown",
      "metadata": {
        "id": "e3YJql1059DT"
      },
      "source": [
        "## 6.2 Tratamento dos dados"
      ]
    },
    {
      "cell_type": "code",
      "metadata": {
        "colab": {
          "base_uri": "https://localhost:8080/",
          "height": 204
        },
        "id": "EYKN_WRawaRR",
        "outputId": "df003481-1f2a-4abd-b458-fce60942ad7a"
      },
      "source": [
        "age_mean = submission_data['Age'].mean()\n",
        "submission_data['Age'] = submission_data['Age'].fillna(age_mean)\n",
        "submission_data['Sex'] = submission_data['Sex'].apply(lambda x : 0 if x == 'male' else 1)\n",
        "submission_data['Embarked'] = submission_data['Embarked'].apply(lambda x : convert_embarked(x))\n",
        "x_submission = pd.get_dummies(submission_data.loc[:, ['PassengerId', 'Pclass', 'Sex', 'Age', 'SibSp', 'Embarked']], columns=['Pclass', 'Sex', 'SibSp', 'Embarked'])\n",
        "x_submission.head()"
      ],
      "execution_count": 17,
      "outputs": [
        {
          "output_type": "execute_result",
          "data": {
            "text/html": [
              "<div>\n",
              "<style scoped>\n",
              "    .dataframe tbody tr th:only-of-type {\n",
              "        vertical-align: middle;\n",
              "    }\n",
              "\n",
              "    .dataframe tbody tr th {\n",
              "        vertical-align: top;\n",
              "    }\n",
              "\n",
              "    .dataframe thead th {\n",
              "        text-align: right;\n",
              "    }\n",
              "</style>\n",
              "<table border=\"1\" class=\"dataframe\">\n",
              "  <thead>\n",
              "    <tr style=\"text-align: right;\">\n",
              "      <th></th>\n",
              "      <th>PassengerId</th>\n",
              "      <th>Age</th>\n",
              "      <th>Pclass_1</th>\n",
              "      <th>Pclass_2</th>\n",
              "      <th>Pclass_3</th>\n",
              "      <th>Sex_0</th>\n",
              "      <th>Sex_1</th>\n",
              "      <th>SibSp_0</th>\n",
              "      <th>SibSp_1</th>\n",
              "      <th>SibSp_2</th>\n",
              "      <th>SibSp_3</th>\n",
              "      <th>SibSp_4</th>\n",
              "      <th>SibSp_5</th>\n",
              "      <th>SibSp_8</th>\n",
              "      <th>Embarked_1</th>\n",
              "      <th>Embarked_2</th>\n",
              "      <th>Embarked_3</th>\n",
              "    </tr>\n",
              "  </thead>\n",
              "  <tbody>\n",
              "    <tr>\n",
              "      <th>0</th>\n",
              "      <td>892</td>\n",
              "      <td>34.5</td>\n",
              "      <td>0</td>\n",
              "      <td>0</td>\n",
              "      <td>1</td>\n",
              "      <td>1</td>\n",
              "      <td>0</td>\n",
              "      <td>1</td>\n",
              "      <td>0</td>\n",
              "      <td>0</td>\n",
              "      <td>0</td>\n",
              "      <td>0</td>\n",
              "      <td>0</td>\n",
              "      <td>0</td>\n",
              "      <td>0</td>\n",
              "      <td>1</td>\n",
              "      <td>0</td>\n",
              "    </tr>\n",
              "    <tr>\n",
              "      <th>1</th>\n",
              "      <td>893</td>\n",
              "      <td>47.0</td>\n",
              "      <td>0</td>\n",
              "      <td>0</td>\n",
              "      <td>1</td>\n",
              "      <td>0</td>\n",
              "      <td>1</td>\n",
              "      <td>0</td>\n",
              "      <td>1</td>\n",
              "      <td>0</td>\n",
              "      <td>0</td>\n",
              "      <td>0</td>\n",
              "      <td>0</td>\n",
              "      <td>0</td>\n",
              "      <td>0</td>\n",
              "      <td>0</td>\n",
              "      <td>1</td>\n",
              "    </tr>\n",
              "    <tr>\n",
              "      <th>2</th>\n",
              "      <td>894</td>\n",
              "      <td>62.0</td>\n",
              "      <td>0</td>\n",
              "      <td>1</td>\n",
              "      <td>0</td>\n",
              "      <td>1</td>\n",
              "      <td>0</td>\n",
              "      <td>1</td>\n",
              "      <td>0</td>\n",
              "      <td>0</td>\n",
              "      <td>0</td>\n",
              "      <td>0</td>\n",
              "      <td>0</td>\n",
              "      <td>0</td>\n",
              "      <td>0</td>\n",
              "      <td>1</td>\n",
              "      <td>0</td>\n",
              "    </tr>\n",
              "    <tr>\n",
              "      <th>3</th>\n",
              "      <td>895</td>\n",
              "      <td>27.0</td>\n",
              "      <td>0</td>\n",
              "      <td>0</td>\n",
              "      <td>1</td>\n",
              "      <td>1</td>\n",
              "      <td>0</td>\n",
              "      <td>1</td>\n",
              "      <td>0</td>\n",
              "      <td>0</td>\n",
              "      <td>0</td>\n",
              "      <td>0</td>\n",
              "      <td>0</td>\n",
              "      <td>0</td>\n",
              "      <td>0</td>\n",
              "      <td>0</td>\n",
              "      <td>1</td>\n",
              "    </tr>\n",
              "    <tr>\n",
              "      <th>4</th>\n",
              "      <td>896</td>\n",
              "      <td>22.0</td>\n",
              "      <td>0</td>\n",
              "      <td>0</td>\n",
              "      <td>1</td>\n",
              "      <td>0</td>\n",
              "      <td>1</td>\n",
              "      <td>0</td>\n",
              "      <td>1</td>\n",
              "      <td>0</td>\n",
              "      <td>0</td>\n",
              "      <td>0</td>\n",
              "      <td>0</td>\n",
              "      <td>0</td>\n",
              "      <td>0</td>\n",
              "      <td>0</td>\n",
              "      <td>1</td>\n",
              "    </tr>\n",
              "  </tbody>\n",
              "</table>\n",
              "</div>"
            ],
            "text/plain": [
              "   PassengerId   Age  Pclass_1  ...  Embarked_1  Embarked_2  Embarked_3\n",
              "0          892  34.5         0  ...           0           1           0\n",
              "1          893  47.0         0  ...           0           0           1\n",
              "2          894  62.0         0  ...           0           1           0\n",
              "3          895  27.0         0  ...           0           0           1\n",
              "4          896  22.0         0  ...           0           0           1\n",
              "\n",
              "[5 rows x 17 columns]"
            ]
          },
          "metadata": {
            "tags": []
          },
          "execution_count": 17
        }
      ]
    },
    {
      "cell_type": "markdown",
      "metadata": {
        "id": "oI8zeJBY6ADS"
      },
      "source": [
        "## 6.3 Reconstrução do modelo"
      ]
    },
    {
      "cell_type": "code",
      "metadata": {
        "colab": {
          "base_uri": "https://localhost:8080/"
        },
        "id": "NAXJAbAmxuy_",
        "outputId": "61514ac5-5521-4bcb-a8ee-0095988cd9b7"
      },
      "source": [
        "input_len = x_submission.shape[1] - 1\n",
        "model = model = build_model(input_len=input_len)\n",
        "\n",
        "model.load_weights(tf.train.latest_checkpoint(checkpoint_dir))\n",
        "\n",
        "model.summary()"
      ],
      "execution_count": 18,
      "outputs": [
        {
          "output_type": "stream",
          "text": [
            "Model: \"sequential_1\"\n",
            "_________________________________________________________________\n",
            "Layer (type)                 Output Shape              Param #   \n",
            "=================================================================\n",
            "dense_4 (Dense)              (None, 120)               2040      \n",
            "_________________________________________________________________\n",
            "dense_5 (Dense)              (None, 70)                8470      \n",
            "_________________________________________________________________\n",
            "dense_6 (Dense)              (None, 30)                2130      \n",
            "_________________________________________________________________\n",
            "dense_7 (Dense)              (None, 1)                 31        \n",
            "=================================================================\n",
            "Total params: 12,671\n",
            "Trainable params: 12,671\n",
            "Non-trainable params: 0\n",
            "_________________________________________________________________\n"
          ],
          "name": "stdout"
        }
      ]
    },
    {
      "cell_type": "markdown",
      "metadata": {
        "id": "WpWyFiKc6F8j"
      },
      "source": [
        "## 6.4 Prevendo"
      ]
    },
    {
      "cell_type": "code",
      "metadata": {
        "id": "oMCbRtRazZmh"
      },
      "source": [
        "predictions = []\n",
        "predictions_round = []\n",
        "i = 0\n",
        "for x in x_submission.values:\n",
        "    PassengerId = int(x[0])\n",
        "    x_to_predict = x[1:].reshape(1, input_len)\n",
        "    prediction = model(x_to_predict).numpy()\n",
        "    prediction_round = np.round(prediction).astype('int')[0][0]\n",
        "    predictions.append([i, prediction[0][0]])\n",
        "    i += 1\n",
        "    predictions_round.append([PassengerId, prediction_round])\n",
        "\n",
        "predictions_df = pd.DataFrame(predictions, columns=['Index', 'Prediction'])"
      ],
      "execution_count": 19,
      "outputs": []
    },
    {
      "cell_type": "markdown",
      "metadata": {
        "id": "tB43AMwY6JxT"
      },
      "source": [
        "## 6.5 Preparando csv para submissão"
      ]
    },
    {
      "cell_type": "code",
      "metadata": {
        "colab": {
          "base_uri": "https://localhost:8080/",
          "height": 204
        },
        "id": "2duSpLvJ2Jjc",
        "outputId": "6933ecce-8038-4e2c-afa3-c3b3552635df"
      },
      "source": [
        "all_predictions = pd.DataFrame(predictions_round, columns=['PassengerId', 'Survived'])\n",
        "all_predictions.to_csv('submission.csv', index=False)\n",
        "all_predictions.head()"
      ],
      "execution_count": 20,
      "outputs": [
        {
          "output_type": "execute_result",
          "data": {
            "text/html": [
              "<div>\n",
              "<style scoped>\n",
              "    .dataframe tbody tr th:only-of-type {\n",
              "        vertical-align: middle;\n",
              "    }\n",
              "\n",
              "    .dataframe tbody tr th {\n",
              "        vertical-align: top;\n",
              "    }\n",
              "\n",
              "    .dataframe thead th {\n",
              "        text-align: right;\n",
              "    }\n",
              "</style>\n",
              "<table border=\"1\" class=\"dataframe\">\n",
              "  <thead>\n",
              "    <tr style=\"text-align: right;\">\n",
              "      <th></th>\n",
              "      <th>PassengerId</th>\n",
              "      <th>Survived</th>\n",
              "    </tr>\n",
              "  </thead>\n",
              "  <tbody>\n",
              "    <tr>\n",
              "      <th>0</th>\n",
              "      <td>892</td>\n",
              "      <td>0</td>\n",
              "    </tr>\n",
              "    <tr>\n",
              "      <th>1</th>\n",
              "      <td>893</td>\n",
              "      <td>0</td>\n",
              "    </tr>\n",
              "    <tr>\n",
              "      <th>2</th>\n",
              "      <td>894</td>\n",
              "      <td>0</td>\n",
              "    </tr>\n",
              "    <tr>\n",
              "      <th>3</th>\n",
              "      <td>895</td>\n",
              "      <td>0</td>\n",
              "    </tr>\n",
              "    <tr>\n",
              "      <th>4</th>\n",
              "      <td>896</td>\n",
              "      <td>0</td>\n",
              "    </tr>\n",
              "  </tbody>\n",
              "</table>\n",
              "</div>"
            ],
            "text/plain": [
              "   PassengerId  Survived\n",
              "0          892         0\n",
              "1          893         0\n",
              "2          894         0\n",
              "3          895         0\n",
              "4          896         0"
            ]
          },
          "metadata": {
            "tags": []
          },
          "execution_count": 20
        }
      ]
    },
    {
      "cell_type": "markdown",
      "metadata": {
        "id": "rL7Y_AbnBb3Z"
      },
      "source": [
        "## 6.6 Fazendo uma analise das predições"
      ]
    },
    {
      "cell_type": "markdown",
      "metadata": {
        "id": "6w2TgvNFDa6o"
      },
      "source": [
        "Se o valor da previsão ficar distante de 0 ou de 1, significa que o modelo tem incerteza de sua previsão. Por exemplo, se o valor fica proximo de 0.5 ele não soube definir com certeza se aquele valore era pertencente a classe 1 ou a classe 0. Logo o modelo fica melhor quando está mais concentrado em torno de 0 ou 1"
      ]
    },
    {
      "cell_type": "code",
      "metadata": {
        "colab": {
          "base_uri": "https://localhost:8080/"
        },
        "id": "F-eHIN9-B0-p",
        "outputId": "6a7eae36-ca3a-4978-d3b3-8878758bbb4c"
      },
      "source": [
        "print(f'o valor da média é de: {predictions_df.mean()}')"
      ],
      "execution_count": 21,
      "outputs": [
        {
          "output_type": "stream",
          "text": [
            "o valor da média é de: Index         208.500000\n",
            "Prediction      0.398229\n",
            "dtype: float64\n"
          ],
          "name": "stdout"
        }
      ]
    },
    {
      "cell_type": "code",
      "metadata": {
        "colab": {
          "base_uri": "https://localhost:8080/",
          "height": 391
        },
        "id": "cm3Asvz9EpcS",
        "outputId": "658bc242-d7d1-435e-b534-c2e3735bad31"
      },
      "source": [
        "plt.figure(figsize=(15,6), facecolor='white')\n",
        "\n",
        "plt.subplot(1,2,1)\n",
        "plt.boxplot(predictions_df['Prediction'])\n",
        "plt.grid()\n",
        "\n",
        "plt.subplot(1,2,2)\n",
        "plt.scatter(x=predictions_df['Index'], y=predictions_df['Prediction'])"
      ],
      "execution_count": 22,
      "outputs": [
        {
          "output_type": "execute_result",
          "data": {
            "text/plain": [
              "<matplotlib.collections.PathCollection at 0x7fe894e87198>"
            ]
          },
          "metadata": {
            "tags": []
          },
          "execution_count": 22
        },
        {
          "output_type": "display_data",
          "data": {
            "image/png": "[encoded data removed]",
            "text/plain": [
              "<Figure size 1080x432 with 2 Axes>"
            ]
          },
          "metadata": {
            "tags": []
          }
        }
      ]
    },
    {
      "cell_type": "code",
      "metadata": {
        "colab": {
          "base_uri": "https://localhost:8080/",
          "height": 35
        },
        "id": "1BFXlQQVGNzG",
        "outputId": "33cc198b-2470-4d6e-875d-1bac411db69f"
      },
      "source": [
        "f\"{round((len(predictions_df[(predictions_df['Prediction'] > 0.3) & (predictions_df['Prediction'] < 0.7)])/len(predictions_df))*100, 2)}% das previsões são relativamente duvidosas\""
      ],
      "execution_count": 23,
      "outputs": [
        {
          "output_type": "execute_result",
          "data": {
            "application/vnd.google.colaboratory.intrinsic+json": {
              "type": "string"
            },
            "text/plain": [
              "'24.16% das previsões são relativamente duvidosas'"
            ]
          },
          "metadata": {
            "tags": []
          },
          "execution_count": 23
        }
      ]
    }
  ]
}